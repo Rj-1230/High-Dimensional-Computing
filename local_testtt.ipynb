{
 "cells": [
  {
   "cell_type": "code",
   "execution_count": 59,
   "id": "8fa2787b",
   "metadata": {},
   "outputs": [
    {
     "name": "stdout",
     "output_type": "stream",
     "text": [
      "{'__header__': b'MATLAB 5.0 MAT-file, Platform: GLNXA64, Created on: Thu Oct 13 04:32:23 2022', '__version__': '1.0', '__globals__': [], 'my_data': array([[2, 3, 4, 1, 9],\n",
      "       [0, 2, 5, 1, 3],\n",
      "       [8, 6, 4, 2, 1],\n",
      "       [0, 4, 5, 1, 3]], dtype=uint8)}\n"
     ]
    }
   ],
   "source": [
    "from scipy.io import loadmat\n",
    "import numpy as np\n",
    "data = loadmat(r\"C:\\Users\\Aashish\\Desktop\\EC400\\code_amal_sir\\test_data.mat\")\n",
    "print(data)"
   ]
  },
  {
   "cell_type": "code",
   "execution_count": 60,
   "id": "a00b70b2",
   "metadata": {},
   "outputs": [],
   "source": [
    "x = data[\"my_data\"]"
   ]
  },
  {
   "cell_type": "code",
   "execution_count": 61,
   "id": "70c53874",
   "metadata": {},
   "outputs": [
    {
     "name": "stdout",
     "output_type": "stream",
     "text": [
      "[[2 3 4 1 9]\n",
      " [0 2 5 1 3]\n",
      " [8 6 4 2 1]\n",
      " [0 4 5 1 3]]\n"
     ]
    }
   ],
   "source": [
    "print(x)"
   ]
  },
  {
   "cell_type": "code",
   "execution_count": 62,
   "id": "cad9b24a",
   "metadata": {},
   "outputs": [
    {
     "name": "stdout",
     "output_type": "stream",
     "text": [
      "0\n"
     ]
    }
   ],
   "source": [
    "x[0][1] = 2.5\n",
    "print(min(x[:,0]))\n"
   ]
  },
  {
   "cell_type": "code",
   "execution_count": 63,
   "id": "3157fd71",
   "metadata": {},
   "outputs": [
    {
     "name": "stdout",
     "output_type": "stream",
     "text": [
      "[[2 2 4 1 9]\n",
      " [0 2 5 1 3]\n",
      " [8 6 4 2 1]\n",
      " [0 4 5 1 3]]\n"
     ]
    }
   ],
   "source": [
    "features = x\n",
    "for k in range(4):  #Last 2 columns ko chhorna h (ie 214 and 215):\n",
    "    for l in range(4):\n",
    "        features[k][l]=np.float64(features[k][l])\n",
    "\n",
    "print(features)\n",
    "# for k in range(5):  #Last 2 columns ko chhorna h (ie 214 and 215)\n",
    "    \n",
    "#     features[:,k]=features[:,k]/max(features[:,k])\n",
    "# #      features(:,k)=features(:,k)/max(features(:,k))"
   ]
  },
  {
   "cell_type": "code",
   "execution_count": 64,
   "id": "16bc4552",
   "metadata": {},
   "outputs": [
    {
     "name": "stdout",
     "output_type": "stream",
     "text": [
      "[[2 2 4 1 9]\n",
      " [0 2 5 1 3]\n",
      " [8 6 4 2 1]\n",
      " [0 4 5 1 3]]\n"
     ]
    }
   ],
   "source": [
    "print(features)"
   ]
  },
  {
   "cell_type": "code",
   "execution_count": 65,
   "id": "1f242731",
   "metadata": {},
   "outputs": [
    {
     "name": "stdout",
     "output_type": "stream",
     "text": [
      "<class 'numpy.uint8'>\n"
     ]
    }
   ],
   "source": [
    "print(type(features[0][0]))"
   ]
  },
  {
   "cell_type": "code",
   "execution_count": null,
   "id": "508342a4",
   "metadata": {},
   "outputs": [],
   "source": []
  }
 ],
 "metadata": {
  "kernelspec": {
   "display_name": "Python 3 (ipykernel)",
   "language": "python",
   "name": "python3"
  },
  "language_info": {
   "codemirror_mode": {
    "name": "ipython",
    "version": 3
   },
   "file_extension": ".py",
   "mimetype": "text/x-python",
   "name": "python",
   "nbconvert_exporter": "python",
   "pygments_lexer": "ipython3",
   "version": "3.9.12"
  }
 },
 "nbformat": 4,
 "nbformat_minor": 5
}
