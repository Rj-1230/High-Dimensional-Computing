{
 "cells": [
  {
   "cell_type": "code",
   "execution_count": null,
   "id": "fb154274",
   "metadata": {},
   "outputs": [],
   "source": [
    "def lookupItemMemeory(itemMemory, rawKey, precision)\n",
    "\n",
    "# %\n",
    "# % DESCRIPTION   : recalls a vector from item Memory based on inputs\n",
    "# %\n",
    "# % INPUTS:\n",
    "# %   itemMemory  : item memory\n",
    "# %   rawKey      : the input key\n",
    "# %   D           : Dimension of vectors\n",
    "# %   precision   : precision used in quantization of input EMG signals\n",
    "# %\n",
    "# % OUTPUTS:\n",
    "# %   randomHV    : return the related vector\n",
    "\n",
    " \n",
    "    key = rawKey * precision\n",
    "    if key in itemMemory:\n",
    "        randomHV = itemMemory[key]\n",
    "    else:\n",
    "        print('CANNOT FIND THIS KEY :',key)\n",
    "    return randomHV;\n",
    "\n"
   ]
  }
 ],
 "metadata": {
  "kernelspec": {
   "display_name": "Python 3 (ipykernel)",
   "language": "python",
   "name": "python3"
  },
  "language_info": {
   "codemirror_mode": {
    "name": "ipython",
    "version": 3
   },
   "file_extension": ".py",
   "mimetype": "text/x-python",
   "name": "python",
   "nbconvert_exporter": "python",
   "pygments_lexer": "ipython3",
   "version": "3.9.12"
  }
 },
 "nbformat": 4,
 "nbformat_minor": 5
}
