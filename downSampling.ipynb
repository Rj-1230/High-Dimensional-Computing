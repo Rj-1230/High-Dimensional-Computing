{
 "cells": [
  {
   "cell_type": "code",
   "execution_count": 12,
   "id": "d59d24ff",
   "metadata": {},
   "outputs": [],
   "source": [
    "import numpy as np\n",
    "\n",
    "def downSampling(data, labels, donwSampRate):\n",
    "    \n",
    "#     % DESCRIPTION   : apply a downsampling to get rid of redundancy in signals \n",
    "# %\n",
    "# % INPUTS:\n",
    "# %   data        : input data\n",
    "# %   labels      : input labels\n",
    "# %   donwSampRate: the rate or stride of downsampling\n",
    "# % OUTPUTS:\n",
    "# %   downSampledData: downsampled data\n",
    "# %   downSampledLabels: downsampled labels\n",
    "# %    \n",
    "\n",
    "    j=1\n",
    "    for i in range(1,len(data),donwSampRate):\n",
    "        downSampledData [j] = data[i]\n",
    "        downSampledLabels[j] = labels[i]\n",
    "        j = j + 1\n",
    "    np.transpose(downSampledLabels)\n",
    "    return downSampledData, downSampledLabels;\n"
   ]
  },
  {
   "cell_type": "code",
   "execution_count": null,
   "id": "790e80f7",
   "metadata": {},
   "outputs": [],
   "source": []
  }
 ],
 "metadata": {
  "kernelspec": {
   "display_name": "Python 3 (ipykernel)",
   "language": "python",
   "name": "python3"
  },
  "language_info": {
   "codemirror_mode": {
    "name": "ipython",
    "version": 3
   },
   "file_extension": ".py",
   "mimetype": "text/x-python",
   "name": "python",
   "nbconvert_exporter": "python",
   "pygments_lexer": "ipython3",
   "version": "3.9.12"
  }
 },
 "nbformat": 4,
 "nbformat_minor": 5
}
