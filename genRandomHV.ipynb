{
 "cells": [
  {
   "cell_type": "code",
   "execution_count": 20,
   "id": "f5d83079",
   "metadata": {},
   "outputs": [],
   "source": [
    "import numpy as np;\n",
    "import random\n",
    "\n",
    "def genRandomHV(D):\n",
    "    randomHV = [0] *D\n",
    "    if D%2!=0:\n",
    "        print('Dimension is odd!!')\n",
    "    else:\n",
    "        randomIndex = np.random.permutation(D)\n",
    "        d=int(D/2);\n",
    "        rand = randomIndex[0:d]\n",
    "        for j in rand:\n",
    "            randomHV[j]=1;\n",
    "    return randomHV;\n"
   ]
  },
  {
   "cell_type": "code",
   "execution_count": 22,
   "id": "48bcaa82",
   "metadata": {},
   "outputs": [],
   "source": [
    "a = genRandomHV(12)\n"
   ]
  },
  {
   "cell_type": "code",
   "execution_count": 23,
   "id": "0700eca1",
   "metadata": {},
   "outputs": [
    {
     "name": "stdout",
     "output_type": "stream",
     "text": [
      "[1, 0, 0, 1, 1, 0, 0, 1, 1, 1, 0, 0]\n"
     ]
    }
   ],
   "source": [
    "print(a)"
   ]
  },
  {
   "cell_type": "code",
   "execution_count": null,
   "id": "9ad85043",
   "metadata": {},
   "outputs": [],
   "source": []
  }
 ],
 "metadata": {
  "kernelspec": {
   "display_name": "Python 3.9.12 ('base')",
   "language": "python",
   "name": "python3"
  },
  "language_info": {
   "codemirror_mode": {
    "name": "ipython",
    "version": 3
   },
   "file_extension": ".py",
   "mimetype": "text/x-python",
   "name": "python",
   "nbconvert_exporter": "python",
   "pygments_lexer": "ipython3",
   "version": "3.9.12"
  },
  "vscode": {
   "interpreter": {
    "hash": "4c8a5eb3eb58247f26fa94bfd4e4ceb33271f3051e10ff410ba6f8a4529c8d6a"
   }
  }
 },
 "nbformat": 4,
 "nbformat_minor": 5
}
