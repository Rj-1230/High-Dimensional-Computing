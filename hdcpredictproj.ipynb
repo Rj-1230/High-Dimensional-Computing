{
 "cells": [
  {
   "cell_type": "code",
   "execution_count": null,
   "id": "d03761c4",
   "metadata": {},
   "outputs": [],
   "source": [
    "#isme av kch ni kiya h\n",
    "\n",
    "from scipy import stats as st\n",
    "def  hdcpredictproj(labelTestSet1, testSet1, labelTestSet2, testSet2,labelTestSet3, testSet3,AM, CiM, iM, D, N, precision, classes, channels1, channels2, channels3,projM1, projM2, projM3):\n",
    "    \n",
    "#     %\n",
    "# % DESCRIPTION   : test accuracy based on input testing data\n",
    "# %\n",
    "# % INPUTS:\n",
    "# %   labelTestSet: testing labels\n",
    "# %   testSet     : EMG test data\n",
    "# %   AM          : Trained associative memory\n",
    "# %   CiM         : Cont. item memory (no use)\n",
    "# %   iM          : item memory\n",
    "# %   D           : Dimension of vectors\n",
    "# %   N           : size of n-gram, i.e., window size \n",
    "# %   precision   : precision used in quantization (no use)\n",
    "# %\n",
    "# % OUTPUTS:\n",
    "# %   accuracy    : classification accuracy for all situations\n",
    "# %   accExcTrnz  : classification accuracy excluding the transitions between gestutes\n",
    "# %\n",
    "    correct = 0\n",
    "    numTests = 0\n",
    "    tranzError = 0\n",
    "    \n",
    "    for i in range(leng(testSet1)-N+1):\n",
    "        numTests = numTests + 1\n",
    "        #actualLabel[i : i+N-1,:] = mode(labelTestSet1 (i : i+N-1));\n",
    "       \n",
    "        sigHV1 = computeNgramproj (testSet1 (i : i+N-1,:), CiM, N, precision, iM, channels1,projM1);\n",
    "        sigHV2 = computeNgramproj (testSet2 (i : i+N-1,:), CiM, N, precision, iM, channels2,projM2);\n",
    "        sigHV3 = computeNgramproj (testSet3 (i : i+N-1,:), CiM, N, precision, iM, channels3,projM3);\n",
    "        \n",
    "        sigHV=st.mode(sigHV1+sigHV2+sigHV3)\n",
    "        predict_hamm = scipy.spatial.distance.hamming(sigHV, AM, classes);\n",
    "        predicLabel[i : i+N-1] = predict_hamm;\n",
    "        \n",
    "        if predict_hamm == actualLabel[i]:\n",
    "            correct = correct + 1;\n",
    "        elif labelTestSet1 (i) ~= labelTestSet1(i+N-1):\n",
    "            tranzError = tranzError + 1;\n",
    "    \n",
    "    \n",
    "    return accExcTrnz, accuracy, predicLabel, actualLabel;\n"
   ]
  }
 ],
 "metadata": {
  "kernelspec": {
   "display_name": "Python 3 (ipykernel)",
   "language": "python",
   "name": "python3"
  },
  "language_info": {
   "codemirror_mode": {
    "name": "ipython",
    "version": 3
   },
   "file_extension": ".py",
   "mimetype": "text/x-python",
   "name": "python",
   "nbconvert_exporter": "python",
   "pygments_lexer": "ipython3",
   "version": "3.9.12"
  }
 },
 "nbformat": 4,
 "nbformat_minor": 5
}
