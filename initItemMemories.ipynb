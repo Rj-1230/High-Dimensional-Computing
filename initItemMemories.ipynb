{
 "cells": [
  {
   "cell_type": "code",
   "execution_count": 60,
   "id": "ad4addc4",
   "metadata": {},
   "outputs": [],
   "source": [
    "# DESCRIPTION   : A function to initialize the item Memory\n",
    "import random\n",
    "import numpy as np\n",
    "import math\n",
    "import functions\n",
    "def initItemMemories(D, MAXL, channels):\n",
    "    \n",
    "#     INPUTS:\n",
    "# %   D           : Dimension of vectors\n",
    "# %   MAXL        : Maximum amplitude of EMG signal\n",
    "# %   channels    : Number of acquisition channels\n",
    "    CiM = {}\n",
    "    iM = {}\n",
    "#     rng.default in MATLAB used Mersenne Twister, Python also by default uses the same\n",
    "#     random.seed(1)\n",
    "    for i in range(channels):\n",
    "        iM[i] = functions.genRandomHV(D)\n",
    "    \n",
    "    initHV = functions.genRandomHV(D)\n",
    "    currentHV = initHV\n",
    "    randomIndex = np.random.permutation(D)\n",
    "    \n",
    "    for i in range(MAXL):\n",
    "        CiM[i]=currentHV\n",
    "        SP = math.floor(D/2/MAXL)\n",
    "        startInx = (i*SP) + 1\n",
    "        endInx = ((i+1)*SP) + 1\n",
    "        rand = randomIndex[startInx:endInx]\n",
    "        for j in rand:\n",
    "            if currentHV[j]==0:\n",
    "                currentHV[j]=1\n",
    "            else:\n",
    "                currentHV[j]=0\n",
    "        \n",
    "    return CiM,iM;\n",
    "\n",
    "\n"
   ]
  },
  {
   "cell_type": "code",
   "execution_count": 45,
   "id": "a9c373a7",
   "metadata": {},
   "outputs": [
    {
     "name": "stdout",
     "output_type": "stream",
     "text": [
      "[1, 1, 0, 0, 1, 1, 0, 1, 0, 0]\n",
      "[3 1 4 0 9 7 2 8 5 6]\n",
      "[1 4 0]\n",
      "<class 'list'>\n",
      "<class 'numpy.ndarray'>\n",
      "1\n",
      "1\n",
      "1\n"
     ]
    }
   ],
   "source": [
    "# Further all the things written below were for testing\n",
    "# still i have a doubt over return size of CiM, will it be MAXL+1 size bcoz as per MATLAB code whi ho ra tha\n",
    "\n",
    "\n",
    "import random\n",
    "import math\n",
    "import numpy as np\n",
    "CiM = {}\n",
    "D=10\n",
    "d= int(D/2);\n",
    "MAXL = 2\n",
    "channels = 4\n",
    "for i in range(channels):\n",
    "    list_of_zeros = [0] * d\n",
    "    list_of_ones = [1] * d\n",
    "    my_list = list_of_zeros+list_of_ones\n",
    "    random.shuffle(my_list)\n",
    "    CiM[i] = my_list\n",
    "\n",
    "# print(CiM)\n",
    "for i in range(channels):\n",
    "    for j in range(len(CiM[i])):\n",
    "        if CiM[i][j]==0:\n",
    "            CiM[i][j]=1\n",
    "        else:\n",
    "            CiM[i][j]=0\n",
    "#         CiM[i][j]=0W\n",
    "\n",
    "# print(CiM)\n",
    "# print(math.floor(D/2/MAXL))\n",
    "list_of_zeros = [0] * d\n",
    "list_of_ones = [1] * d\n",
    "my_list = list_of_zeros+list_of_ones\n",
    "random.shuffle(my_list)   \n",
    "current = my_list\n",
    "\n",
    "print(current)\n",
    "randomIndex = np.random.permutation(D)\n",
    "print(randomIndex)\n",
    "rand = randomIndex[1:4]\n",
    "print(rand)\n",
    "# print(current[randomIndex[1:4]])\n",
    "print(type(current))\n",
    "print(type(randomIndex))\n",
    "for i in rand:\n",
    "    print(current[i])\n"
   ]
  },
  {
   "cell_type": "code",
   "execution_count": 50,
   "id": "7da3e4b8",
   "metadata": {},
   "outputs": [
    {
     "name": "stdout",
     "output_type": "stream",
     "text": [
      "{0: [1, 0, 0, 0, 1, 0, 1, 0, 1, 0, 0, 1, 1, 0, 0, 1, 0, 0, 0, 1, 0, 0, 1, 1, 1, 0, 1, 1, 1, 1, 1, 1, 1, 1, 0, 1, 0, 1, 0, 1, 0, 1, 0, 1, 0, 1, 1, 1, 1, 0, 1, 0, 0, 1, 0, 1, 1, 0, 1, 1, 1, 1, 1, 0, 0, 0, 1, 0, 0, 1, 1, 1, 1, 0, 1, 0, 0, 0, 0, 1, 1, 0, 1, 1, 0, 1, 1, 1, 0, 0, 1, 1, 1, 0, 1, 0, 1, 0, 1, 0, 1, 1, 1, 1], 1: [1, 0, 0, 0, 1, 0, 1, 0, 1, 0, 0, 1, 1, 0, 0, 1, 0, 0, 0, 1, 0, 0, 1, 1, 1, 0, 1, 1, 1, 1, 1, 1, 1, 1, 0, 1, 0, 1, 0, 1, 0, 1, 0, 1, 0, 1, 1, 1, 1, 0, 1, 0, 0, 1, 0, 1, 1, 0, 1, 1, 1, 1, 1, 0, 0, 0, 1, 0, 0, 1, 1, 1, 1, 0, 1, 0, 0, 0, 0, 1, 1, 0, 1, 1, 0, 1, 1, 1, 0, 0, 1, 1, 1, 0, 1, 0, 1, 0, 1, 0, 1, 1, 1, 1]}\n"
     ]
    }
   ],
   "source": [
    "a, b = initItemMemories(104,2,32)\n",
    "print(a)\n",
    "# print(b)\n"
   ]
  },
  {
   "cell_type": "code",
   "execution_count": 51,
   "id": "aa45848a",
   "metadata": {},
   "outputs": [
    {
     "ename": "ModuleNotFoundError",
     "evalue": "No module named 'genRandomHV'",
     "output_type": "error",
     "traceback": [
      "\u001b[1;31m---------------------------------------------------------------------------\u001b[0m",
      "\u001b[1;31mModuleNotFoundError\u001b[0m                       Traceback (most recent call last)",
      "Input \u001b[1;32mIn [51]\u001b[0m, in \u001b[0;36m<cell line: 1>\u001b[1;34m()\u001b[0m\n\u001b[1;32m----> 1\u001b[0m \u001b[38;5;28;01mfrom\u001b[39;00m \u001b[38;5;21;01mgenRandomHV\u001b[39;00m \u001b[38;5;28;01mimport\u001b[39;00m genRandomHV\n",
      "\u001b[1;31mModuleNotFoundError\u001b[0m: No module named 'genRandomHV'"
     ]
    }
   ],
   "source": [
    "from genRandomHV import genRandomHV"
   ]
  },
  {
   "cell_type": "code",
   "execution_count": 56,
   "id": "477bdf4a",
   "metadata": {},
   "outputs": [],
   "source": [
    "import functions\n",
    "a = functions.genRandomHV(10)"
   ]
  },
  {
   "cell_type": "code",
   "execution_count": 57,
   "id": "c5c0eec6",
   "metadata": {},
   "outputs": [
    {
     "name": "stdout",
     "output_type": "stream",
     "text": [
      "[0, 0, 1, 1, 1, 0, 1, 1, 0, 0]\n"
     ]
    }
   ],
   "source": [
    "print(a)"
   ]
  },
  {
   "cell_type": "code",
   "execution_count": 68,
   "id": "d2e23982",
   "metadata": {},
   "outputs": [
    {
     "name": "stdout",
     "output_type": "stream",
     "text": [
      "8\n",
      "1\n",
      "5\n",
      "2\n",
      "3\n",
      "9\n",
      "6\n",
      "7\n",
      "4\n",
      "0\n",
      "<class 'list'>\n",
      "<class 'numpy.ndarray'>\n"
     ]
    }
   ],
   "source": [
    "randomIndex = np.random.permutation(10)\n",
    "for i in randomIndex:\n",
    "    print(i)\n",
    "ab =list(range(1, 5))\n",
    "print(type(ab))\n",
    "print(type(randomIndex))"
   ]
  },
  {
   "cell_type": "code",
   "execution_count": 71,
   "id": "997f8138",
   "metadata": {},
   "outputs": [
    {
     "name": "stdout",
     "output_type": "stream",
     "text": [
      "CANNOT FIND THIS KEY : 10\n"
     ]
    }
   ],
   "source": [
    "key = 10\n",
    "print('CANNOT FIND THIS KEY :',key)"
   ]
  },
  {
   "cell_type": "code",
   "execution_count": null,
   "id": "eee8086e",
   "metadata": {},
   "outputs": [],
   "source": []
  }
 ],
 "metadata": {
  "kernelspec": {
   "display_name": "Python 3 (ipykernel)",
   "language": "python",
   "name": "python3"
  },
  "language_info": {
   "codemirror_mode": {
    "name": "ipython",
    "version": 3
   },
   "file_extension": ".py",
   "mimetype": "text/x-python",
   "name": "python",
   "nbconvert_exporter": "python",
   "pygments_lexer": "ipython3",
   "version": "3.9.12"
  }
 },
 "nbformat": 4,
 "nbformat_minor": 5
}
