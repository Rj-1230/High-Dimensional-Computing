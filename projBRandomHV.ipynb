{
 "cells": [
  {
   "cell_type": "code",
   "execution_count": 7,
   "id": "0b8beef1",
   "metadata": {},
   "outputs": [],
   "source": [
    "import random\n",
    "import numpy as np\n",
    "def projBRandomHV( D, F ,q):\n",
    "    \n",
    "#     %   D: dim\n",
    "# %   F: number of features\n",
    "# %   q: sparsity\n",
    "    \n",
    "    proj_m=[]; \n",
    "    if D%2!=0:\n",
    "        print('Dimension is odd!!')\n",
    "    else:\n",
    "        F_D=F*D\n",
    "#         probM=rand(F,D);  FxD ka ek matrix with random values\n",
    "        probM = np.zeros( (F, D) )\n",
    "        for i in range(F):\n",
    "            for j in range(D):\n",
    "                probM[i][j]=random.random()\n",
    "        p_n1=(1-q)/2\n",
    "        p_p1=p_n1\n",
    "        \n",
    "        for k in range(F):\n",
    "            for i in range(D):\n",
    "                if probM[k][i]<p_n1:\n",
    "                    proj_m[k][i]=-1\n",
    "                elif (p_n1<=probM[k,i]) and (probM[k,i]<(q+p_n1)):\n",
    "                    proj_m[k][i]=-0\n",
    "                else:\n",
    "                    proj_m[k][i]=1;\n",
    "    return proj_m;\n"
   ]
  },
  {
   "cell_type": "code",
   "execution_count": 3,
   "id": "d8dac1b9",
   "metadata": {},
   "outputs": [
    {
     "data": {
      "text/plain": [
       "0.2855248994590527"
      ]
     },
     "execution_count": 3,
     "metadata": {},
     "output_type": "execute_result"
    }
   ],
   "source": [
    "random.random()\n"
   ]
  },
  {
   "cell_type": "code",
   "execution_count": null,
   "id": "6005aa7d",
   "metadata": {},
   "outputs": [],
   "source": []
  }
 ],
 "metadata": {
  "kernelspec": {
   "display_name": "Python 3 (ipykernel)",
   "language": "python",
   "name": "python3"
  },
  "language_info": {
   "codemirror_mode": {
    "name": "ipython",
    "version": 3
   },
   "file_extension": ".py",
   "mimetype": "text/x-python",
   "name": "python",
   "nbconvert_exporter": "python",
   "pygments_lexer": "ipython3",
   "version": "3.9.12"
  }
 },
 "nbformat": 4,
 "nbformat_minor": 5
}
