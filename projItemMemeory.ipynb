{
 "cells": [
  {
   "cell_type": "code",
   "execution_count": null,
   "id": "2bd38504",
   "metadata": {},
   "outputs": [],
   "source": [
    "import numpy as np\n",
    "def projItemMemeory (projM, voffeature,ioffeature):\n",
    "    \n",
    "# %\n",
    "# % INPUTS:\n",
    "# %   projM\t: random vector with {-1,0,+1}\n",
    "# %   voffeature\t: value of a feature\n",
    "# %   ioffeature\t: index of a feature\n",
    "# % OUTPUTS:\n",
    "# %   randomHV    : return the related vector\n",
    "    projV=projM[ioffeature]\n",
    "    h= np.multiply(voffeature,projV)\n",
    "    for i in range(len(h)):\n",
    "        if h[i]>0:\n",
    "            randomHV[i]=1\n",
    "        else:\n",
    "            randomHV[i]=0;\n",
    "    return randomHV;\n"
   ]
  }
 ],
 "metadata": {
  "kernelspec": {
   "display_name": "Python 3 (ipykernel)",
   "language": "python",
   "name": "python3"
  },
  "language_info": {
   "codemirror_mode": {
    "name": "ipython",
    "version": 3
   },
   "file_extension": ".py",
   "mimetype": "text/x-python",
   "name": "python",
   "nbconvert_exporter": "python",
   "pygments_lexer": "ipython3",
   "version": "3.9.12"
  }
 },
 "nbformat": 4,
 "nbformat_minor": 5
}
